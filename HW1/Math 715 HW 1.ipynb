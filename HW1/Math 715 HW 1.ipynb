{
 "cells": [
  {
   "cell_type": "code",
   "execution_count": 2,
   "metadata": {},
   "outputs": [],
   "source": [
    "# functions to help you\n",
    "import numpy as np\n",
    "import scipy.sparse as spsp\n",
    "from scipy.sparse.linalg import spsolve\n",
    "import scipy.integrate as integrate\n",
    "\n",
    "class Mesh:\n",
    "    def __init__(self, points):\n",
    "        # self.p    array with the node points (sorted) type : np.array dim: (n_p)\n",
    "        # self.n_p  number of node points               type : int\n",
    "        # self.s    array with indices of points per    type : np.array dim: (n_s, 2) \n",
    "        #           segment  \n",
    "        # self.n_s  number of segments                  type : int\n",
    "        # self.bc.  array with the indices of boundary  type : np.array dim: (2)\n",
    "        #           points\n",
    "\n",
    "        self.p   = np.sort(points)\n",
    "        self.n_p = len(self.p)\n",
    "\n",
    "        self.s   = np.column_stack((self.p[:-1], self.p[1:]))\n",
    "        self.n_s = self.n_p - 1\n",
    "\n",
    "        self.bc  = np.take(self.p, [0, -1])"
   ]
  },
  {
   "cell_type": "code",
   "execution_count": 3,
   "metadata": {
    "scrolled": true
   },
   "outputs": [],
   "source": [
    "class V_h:\n",
    "    def __init__(self, mesh):\n",
    "        # self.mesh Mesh object containg geometric info type: Mesh\n",
    "        # self.sim  dimension of the space              type: in\n",
    "\n",
    "        self.mesh = mesh\n",
    "        self.dim  = mesh.n_p\n",
    "\n",
    "    def eval(self, xi, x):\n",
    "        \"\"\" evaluation of the piece wise local polynomial given by\n",
    "           the coefficients xi, at the point x \n",
    "        \"\"\"\n",
    "\n",
    "        # compute the index of the interval in which x is contained\n",
    "        points = self.mesh.p\n",
    "        prev   = points[(points <= x)]\n",
    "        idx    = np.minimum(len(prev)-1, self.mesh.n_s - 1)\n",
    "\n",
    "        # compute the size of the interval\n",
    "        interval = self.mesh.s[idx, :]\n",
    "        seglen   = interval[1] - interval[0]\n",
    "\n",
    "        return xi[idx] + (xi[idx + 1] - xi[idx]) / seglen * (x - interval[0]) # here return the value of the fucnciton "
   ]
  },
  {
   "cell_type": "code",
   "execution_count": 4,
   "metadata": {},
   "outputs": [],
   "source": [
    "class Function:\n",
    "    def __init__(self, xi, v_h):\n",
    "        self.xi  = xi\n",
    "        self.v_h = v_h\n",
    "\n",
    "    def __call__(self,x):\n",
    "        # wrapper for calling eval in V_h\n",
    "\n",
    "        # use the fucntion defined in v_h\n",
    "        return V_h.eval(self.v_h, self.xi, x)"
   ]
  },
  {
   "cell_type": "code",
   "execution_count": 5,
   "metadata": {},
   "outputs": [],
   "source": [
    "def mass_matrix(v_h):\n",
    "\n",
    "    # sparse matrix easy to change sparsity pattern\n",
    "    # this initializes an empty sparse matrix of \n",
    "    # size v_h.dim x v_h.dim\n",
    "    M = spsp.lil_matrix((v_h.dim,v_h.dim))\n",
    "\n",
    "    s = v_h.mesh.s\n",
    "    \n",
    "    # for loop\n",
    "    for i in range(v_h.mesh.n_s):\n",
    "        # extract the indices\n",
    "\n",
    "\n",
    "        # compute the lengh of the segment\n",
    "        h = s[i, 1] - s[i, 0]\n",
    "\n",
    "        # add the values to the matrix\n",
    "        M_temp = 1/6 * np.matrix([[2, 1], [1, 2]]) * h\n",
    "        M[i, i] = M[i, i] + M_temp[0, 0]\n",
    "        M[i, i+1] = M[i, i+1] + M_temp[0, 1]\n",
    "        M[i+1, i] = M[i+1, i] + M_temp[1, 0]\n",
    "        M[i+1, i+1] = M[i+1, i+1] + M_temp[1, 1]\n",
    "\n",
    "    return M"
   ]
  },
  {
   "cell_type": "code",
   "execution_count": 6,
   "metadata": {},
   "outputs": [],
   "source": [
    "def stiffness_matrix(v_h, sigma):\n",
    "\n",
    "    # matrix easy to change sparsity pattern\n",
    "    S = spsp.lil_matrix((v_h.dim,v_h.dim))\n",
    "\n",
    "    s = v_h.mesh.s\n",
    "    \n",
    "    # for loop\n",
    "    for i in range(v_h.mesh.n_s):\n",
    "        # extract the indices\n",
    "\n",
    "\n",
    "        # compute the lengh of the segment\n",
    "        h = s[i, 1] - s[i, 0]\n",
    "\n",
    "        # sample sigma\n",
    "        sig = sigma((s[i, 0] + s[i, 1]) / 2)\n",
    "\n",
    "        # update the stiffness matrix\n",
    "        S_temp = sig / h * np.matrix([[1, -1], [-1, 1]])\n",
    "        S[i, i] = S[i, i] + S_temp[0, 0]\n",
    "        S[i, i+1] = S[i, i+1] + S_temp[0, 1]\n",
    "        S[i+1, i] = S[i+1, i] + S_temp[1, 0]\n",
    "        S[i+1, i+1] = S[i+1, i+1] + S_temp[1, 1]\n",
    "\n",
    "    return S"
   ]
  },
  {
   "cell_type": "code",
   "execution_count": 7,
   "metadata": {},
   "outputs": [],
   "source": [
    "# show differences between Trapezoidal rule and Simpson rule\n",
    "def load_vector(v_h, f):\n",
    "\n",
    "    # allocate the vector\n",
    "    b = np.zeros(v_h.dim)\n",
    "\n",
    "    s = v_h.mesh.s\n",
    "    \n",
    "    # for loop over the segments\n",
    "    for i in range(v_h.mesh.n_s):\n",
    "        # extracting the indices\n",
    "\n",
    "\n",
    "        # computing the lenght of the interval \n",
    "        h = s[i, 1] - s[i, 0]\n",
    "\n",
    "        # update b\n",
    "        b[i] = b[i] + 1/2 * f(s[i, 0]) *h\n",
    "        b[i+1] = b[i+1] + 1/2 * f(s[i, 1]) *h\n",
    "\n",
    "    return b"
   ]
  },
  {
   "cell_type": "code",
   "execution_count": 8,
   "metadata": {},
   "outputs": [],
   "source": [
    "def source_assembler(v_h, f, sigma, u_dirichlet):\n",
    "    # computing the load vector (use the function above)\n",
    "    load_vector(v_h, f)\n",
    "    \n",
    "    s = v_h.mesh.s\n",
    "    b = load_vector(v_h, f)\n",
    "    \n",
    "    # extract the interval index for left boundary\n",
    "\n",
    "\n",
    "    # compute the lenght of the interval\n",
    "    h_1 = s[0, 1] - s[0, 0]\n",
    "\n",
    "    # sample sigma at the middle point\n",
    "    sig_1 = sigma((s[0, 0] + s[0, 1]) / 2)\n",
    "\n",
    "    # update the source_vector\n",
    "    b[1] = b[1] + sig_1 / h_1 * u_dirichlet[0]\n",
    "\n",
    "\n",
    "    # extract the interval index for the right boudanry\n",
    "\n",
    "\n",
    "\n",
    "    # compute the length of the interval\n",
    "    h_n = s[-1, 1] - s[-1, 0]\n",
    "\n",
    "\n",
    "    # sample sigma at the middle point\n",
    "    sig_n = sigma((s[-1, 0] + s[-1, 1]) / 2)\n",
    "\n",
    "\n",
    "    # update the source_vector\n",
    "    b[-2] = b[-2] + sig_n / h_n * u_dirichlet[1]\n",
    "    \n",
    "    # return only the interior nodes\n",
    "    return b[1:-1]"
   ]
  },
  {
   "cell_type": "code",
   "execution_count": 9,
   "metadata": {},
   "outputs": [],
   "source": [
    "def solve_poisson_dirichelet(v_h, f, sigma, \n",
    "                             u_dirichlet=np.zeros((2)) ):\n",
    "    \"\"\" function to solbe the Poisson equation with \n",
    "    Dirichlet boundary conditions\n",
    "    input:  v_h         function space\n",
    "          f           load (python function)\n",
    "          sigma       conductivity\n",
    "          u_dirichlet boundary conditions\n",
    "    output: u           approximation (Function class)\n",
    "    \"\"\"  \n",
    "\n",
    "    # we compute the stiffness matrix, we only use the  \n",
    "    # the interior dof, and we need to convert it to \n",
    "    # a csc_matrix\n",
    "    S = stiffness_matrix(v_h, sigma)[1:-1, 1:-1]\n",
    "\n",
    "    # we build the source\n",
    "    b = source_assembler(v_h, f, sigma, u_dirichlet)\n",
    "\n",
    "    # solve for the interior degrees of freedom\n",
    "    u_interior = spsolve(S,b)\n",
    "\n",
    "    # concatenate the solution to add the boundary \n",
    "    # conditions\n",
    "    xi_u = np.concatenate([u_dirichlet[:1], \n",
    "                         u_interior, \n",
    "                         u_dirichlet[1:]])\n",
    "\n",
    "    # return the function\n",
    "    return Function(xi_u, v_h)"
   ]
  },
  {
   "cell_type": "code",
   "execution_count": 10,
   "metadata": {},
   "outputs": [],
   "source": [
    "def pi_h(v_h, f):\n",
    "    \"\"\"interpolation function\n",
    "    input:  v_h   function space\n",
    "            f     function to project\n",
    "    output: pih_f function that is the interpolation \n",
    "                  of f into v_h\n",
    "    \"\"\"\n",
    "    pi_h_f = Function(f, v_h)\n",
    "\n",
    "\n",
    "    return pi_h_f"
   ]
  },
  {
   "cell_type": "code",
   "execution_count": 11,
   "metadata": {},
   "outputs": [],
   "source": [
    "def p_h(v_h, f):\n",
    "    \"\"\"projection function\n",
    "    input:  v_h   function space\n",
    "            f     function to project\n",
    "    output: ph_f  function that is the projection \n",
    "                  of f into v_h\n",
    "    \"\"\"\n",
    "    # compute load vector\n",
    "    b = load_vector(v_h, f)\n",
    "\n",
    "    # compute Mass matrix and convert it to csc type\n",
    "    M = mass_matrix(v_h)\n",
    "\n",
    "    # solve the system\n",
    "    xi = spsolve(M,b)\n",
    "\n",
    "    # create the new function (this needs to be an instance)\n",
    "    # of a Function class\n",
    "    ph_f = Function(xi, v_h)\n",
    "\n",
    "    return ph_f"
   ]
  },
  {
   "cell_type": "code",
   "execution_count": 12,
   "metadata": {
    "scrolled": true
   },
   "outputs": [
    {
     "name": "stdout",
     "output_type": "stream",
     "text": [
      "L^2 error using 11 points is 0.049821\n",
      "L^2 error using 21 points is 0.010890\n"
     ]
    },
    {
     "name": "stderr",
     "output_type": "stream",
     "text": [
      "/opt/anaconda3/lib/python3.8/site-packages/scipy/sparse/linalg/dsolve/linsolve.py:144: SparseEfficiencyWarning: spsolve requires A be CSC or CSR matrix format\n",
      "  warn('spsolve requires A be CSC or CSR matrix format',\n",
      "<ipython-input-12-db64e2a5bc61>:39: IntegrationWarning: The maximum number of subdivisions (50) has been achieved.\n",
      "  If increasing the limit yields no improvement it is advised to analyze \n",
      "  the integrand in order to determine the difficulties.  If the position of a \n",
      "  local difficulty can be determined (singularity, discontinuity) one will \n",
      "  probably gain from splitting up the interval and calling the integrator \n",
      "  on the subranges.  Perhaps a special-purpose integrator should be used.\n",
      "  l2_err = np.sqrt(integrate.quad(err, 0.0,1.)[0])\n",
      "<ipython-input-12-db64e2a5bc61>:54: IntegrationWarning: The maximum number of subdivisions (50) has been achieved.\n",
      "  If increasing the limit yields no improvement it is advised to analyze \n",
      "  the integrand in order to determine the difficulties.  If the position of a \n",
      "  local difficulty can be determined (singularity, discontinuity) one will \n",
      "  probably gain from splitting up the interval and calling the integrator \n",
      "  on the subranges.  Perhaps a special-purpose integrator should be used.\n",
      "  l2_err = np.sqrt(integrate.quad(err, 0.0,1.)[0])\n"
     ]
    }
   ],
   "source": [
    "if __name__ == \"__main__\":\n",
    "\n",
    "    \"\"\" This is the main function, which will run \n",
    "    if you try to run this script, this code was provided \n",
    "    to you to help you debug your code. \n",
    "    \"\"\" \n",
    "\n",
    "    x = np.linspace(0,1,11)\n",
    "\n",
    "    mesh = Mesh(x)\n",
    "    v_h  = V_h(mesh)\n",
    "\n",
    "\n",
    "    f_load = lambda x: 2+0*x\n",
    "    xi = f_load(x) # linear function\n",
    "\n",
    "    u = Function(xi, v_h) \n",
    "\n",
    "    assert np.abs(u(x[5]) - f_load(x[5])) < 1.e-6\n",
    "\n",
    "    # check if this is projection\n",
    "    ph_f = p_h(v_h, f_load)\n",
    "    ph_f2 = p_h(v_h, ph_f)\n",
    "\n",
    "    # \n",
    "    assert np.max(ph_f.xi - ph_f2.xi) < 1.e-6\n",
    "\n",
    "    # using analytical solution\n",
    "    u = lambda x : np.sin(4*np.pi*x)\n",
    "    # building the correct source file\n",
    "    f = lambda x : (4*np.pi)**2*np.sin(4*np.pi*x)\n",
    "    # conductivity is constant\n",
    "    sigma = lambda x : 1 + 0*x  \n",
    "\n",
    "    u_sol = solve_poisson_dirichelet(v_h, f, sigma)\n",
    "\n",
    "    err = lambda x: np.square(u_sol(x) - u(x))\n",
    "    # we use an fearly accurate quadrature \n",
    "    l2_err = np.sqrt(integrate.quad(err, 0.0,1.)[0])\n",
    "\n",
    "    print(\"L^2 error using %d points is %.6f\"% (v_h.dim, l2_err))\n",
    "    # this should be quite large\n",
    "\n",
    "    # define a finer partition \n",
    "    x = np.linspace(0,1,21)\n",
    "    # init mesh and fucntion space\n",
    "    mesh = Mesh(x)\n",
    "    v_h  = V_h(mesh)\n",
    "\n",
    "    u_sol = solve_poisson_dirichelet(v_h, f, sigma)\n",
    "\n",
    "    err = lambda x: np.square(u_sol(x) - u(x))\n",
    "    # we use an fearly accurate quadrature \n",
    "    l2_err = np.sqrt(integrate.quad(err, 0.0,1.)[0])\n",
    "\n",
    "    # print the error\n",
    "    print(\"L^2 error using %d points is %.6f\"% (v_h.dim, l2_err))"
   ]
  },
  {
   "cell_type": "code",
   "execution_count": 13,
   "metadata": {},
   "outputs": [
    {
     "name": "stderr",
     "output_type": "stream",
     "text": [
      "/opt/anaconda3/lib/python3.8/site-packages/scipy/sparse/linalg/dsolve/linsolve.py:144: SparseEfficiencyWarning: spsolve requires A be CSC or CSR matrix format\n",
      "  warn('spsolve requires A be CSC or CSR matrix format',\n",
      "<ipython-input-13-4ded452a1f8c>:23: IntegrationWarning: The integral is probably divergent, or slowly convergent.\n",
      "  l2_err[i] = np.sqrt(integrate.quad(err, 0.0,1.)[0])\n"
     ]
    },
    {
     "data": {
      "text/plain": [
       "<matplotlib.legend.Legend at 0x7fa6efecee20>"
      ]
     },
     "execution_count": 13,
     "metadata": {},
     "output_type": "execute_result"
    },
    {
     "data": {
      "image/png": "[encoded data removed]",
      "text/plain": [
       "<Figure size 432x288 with 1 Axes>"
      ]
     },
     "metadata": {
      "needs_background": "light"
     },
     "output_type": "display_data"
    }
   ],
   "source": [
    "#B1\n",
    "import matplotlib.pyplot as plt\n",
    "\n",
    "f = lambda x : np.exp(x)\n",
    "\n",
    "rounds = 4\n",
    "l2_err = np.empty([rounds, 1])\n",
    "h      = np.empty([rounds, 1])\n",
    "\n",
    "for i in range(rounds):\n",
    "\n",
    "    # define a partition \n",
    "    x    = np.linspace(0,1,20*2**i+1)\n",
    "    h[i] = (x[-1] - x[0]) / (len(x) - 1)\n",
    "    # init mesh and fucntion space\n",
    "    mesh = Mesh(x)\n",
    "    v_h  = V_h(mesh)\n",
    "\n",
    "    f_sol = p_h(v_h, f)\n",
    "\n",
    "    err = lambda x: np.square(f_sol(x) - f(x))\n",
    "    # we use an fearly accurate quadrature \n",
    "    l2_err[i] = np.sqrt(integrate.quad(err, 0.0,1.)[0])\n",
    "\n",
    "plt.loglog(h, l2_err)\n",
    "plt.loglog(h, h**2)\n",
    "plt.xlabel('h')\n",
    "plt.title('Error vs. h')\n",
    "plt.legend(['$L^2$ error', '$h^2$'])\n"
   ]
  },
  {
   "cell_type": "code",
   "execution_count": 14,
   "metadata": {},
   "outputs": [
    {
     "name": "stderr",
     "output_type": "stream",
     "text": [
      "/opt/anaconda3/lib/python3.8/site-packages/scipy/sparse/linalg/dsolve/linsolve.py:144: SparseEfficiencyWarning: spsolve requires A be CSC or CSR matrix format\n",
      "  warn('spsolve requires A be CSC or CSR matrix format',\n",
      "<ipython-input-14-72014cf9b3e3>:22: IntegrationWarning: The maximum number of subdivisions (50) has been achieved.\n",
      "  If increasing the limit yields no improvement it is advised to analyze \n",
      "  the integrand in order to determine the difficulties.  If the position of a \n",
      "  local difficulty can be determined (singularity, discontinuity) one will \n",
      "  probably gain from splitting up the interval and calling the integrator \n",
      "  on the subranges.  Perhaps a special-purpose integrator should be used.\n",
      "  l2_err[i] = np.sqrt(integrate.quad(err, 0.0,1.)[0])\n"
     ]
    },
    {
     "data": {
      "text/plain": [
       "<matplotlib.legend.Legend at 0x7fa6f08f95b0>"
      ]
     },
     "execution_count": 14,
     "metadata": {},
     "output_type": "execute_result"
    },
    {
     "data": {
      "image/png": "[encoded data removed]",
      "text/plain": [
       "<Figure size 432x288 with 1 Axes>"
      ]
     },
     "metadata": {
      "needs_background": "light"
     },
     "output_type": "display_data"
    }
   ],
   "source": [
    "#B2\n",
    "\n",
    "f = lambda x : np.sin(4*np.pi*x)\n",
    "\n",
    "rounds = 4\n",
    "l2_err = np.empty([rounds, 1])\n",
    "h      = np.empty([rounds, 1])\n",
    "\n",
    "for i in range(rounds):\n",
    "\n",
    "    # define a partition \n",
    "    x    = np.linspace(0,1,20*2**i+1)\n",
    "    h[i] = (x[-1] - x[0]) / (len(x) - 1)\n",
    "    # init mesh and fucntion space\n",
    "    mesh = Mesh(x)\n",
    "    v_h  = V_h(mesh)\n",
    "\n",
    "    f_sol = p_h(v_h, f)\n",
    "\n",
    "    err = lambda x: np.square(f_sol(x) - f(x))\n",
    "    # we use an fearly accurate quadrature \n",
    "    l2_err[i] = np.sqrt(integrate.quad(err, 0.0,1.)[0])\n",
    "\n",
    "plt.loglog(h, l2_err)\n",
    "plt.loglog(h, h**2)\n",
    "plt.xlabel('h')\n",
    "plt.title('Error vs. h')\n",
    "plt.legend(['$L^2$ error', '$h^2$'])"
   ]
  },
  {
   "cell_type": "code",
   "execution_count": 15,
   "metadata": {
    "scrolled": true
   },
   "outputs": [
    {
     "name": "stderr",
     "output_type": "stream",
     "text": [
      "/opt/anaconda3/lib/python3.8/site-packages/scipy/sparse/linalg/dsolve/linsolve.py:144: SparseEfficiencyWarning: spsolve requires A be CSC or CSR matrix format\n",
      "  warn('spsolve requires A be CSC or CSR matrix format',\n",
      "<ipython-input-15-beaa086d6df3>:22: IntegrationWarning: The maximum number of subdivisions (50) has been achieved.\n",
      "  If increasing the limit yields no improvement it is advised to analyze \n",
      "  the integrand in order to determine the difficulties.  If the position of a \n",
      "  local difficulty can be determined (singularity, discontinuity) one will \n",
      "  probably gain from splitting up the interval and calling the integrator \n",
      "  on the subranges.  Perhaps a special-purpose integrator should be used.\n",
      "  l2_err[i] = np.sqrt(integrate.quad(err, 0.0,1.)[0])\n"
     ]
    },
    {
     "data": {
      "text/plain": [
       "<matplotlib.legend.Legend at 0x7fa6f10d23d0>"
      ]
     },
     "execution_count": 15,
     "metadata": {},
     "output_type": "execute_result"
    },
    {
     "data": {
      "image/png": "[encoded data removed]",
      "text/plain": [
       "<Figure size 432x288 with 1 Axes>"
      ]
     },
     "metadata": {
      "needs_background": "light"
     },
     "output_type": "display_data"
    }
   ],
   "source": [
    "#B3\n",
    "\n",
    "f = lambda x : np.sqrt(1-x**2)\n",
    "\n",
    "rounds = 4\n",
    "l2_err = np.empty([rounds, 1])\n",
    "h      = np.empty([rounds, 1])\n",
    "\n",
    "for i in range(rounds):\n",
    "\n",
    "    # define a partition \n",
    "    x    = np.linspace(0,1,20*2**i+1)\n",
    "    h[i] = (x[-1] - x[0]) / (len(x) - 1)\n",
    "    # init mesh and fucntion space\n",
    "    mesh = Mesh(x)\n",
    "    v_h  = V_h(mesh)\n",
    "\n",
    "    f_sol = p_h(v_h, f)\n",
    "\n",
    "    err = lambda x: np.square(f_sol(x) - f(x))\n",
    "    # we use an fearly accurate quadrature \n",
    "    l2_err[i] = np.sqrt(integrate.quad(err, 0.0,1.)[0])\n",
    "\n",
    "plt.loglog(h, l2_err)\n",
    "plt.loglog(h, h)\n",
    "plt.xlabel('h')\n",
    "plt.title('Error vs. h')\n",
    "plt.legend(['$L^2$ error', '$h$'])"
   ]
  },
  {
   "cell_type": "code",
   "execution_count": 28,
   "metadata": {},
   "outputs": [
    {
     "name": "stderr",
     "output_type": "stream",
     "text": [
      "/opt/anaconda3/lib/python3.8/site-packages/scipy/sparse/linalg/dsolve/linsolve.py:144: SparseEfficiencyWarning: spsolve requires A be CSC or CSR matrix format\n",
      "  warn('spsolve requires A be CSC or CSR matrix format',\n",
      "<ipython-input-28-663ac06ceccb>:29: RuntimeWarning: invalid value encountered in sqrt\n",
      "  l2_err[i] = np.sqrt(integrate.quad(err_diff, 0.0,1.)[0])\n"
     ]
    },
    {
     "data": {
      "text/plain": [
       "<matplotlib.legend.Legend at 0x7fa6f3662640>"
      ]
     },
     "execution_count": 28,
     "metadata": {},
     "output_type": "execute_result"
    },
    {
     "data": {
      "image/png": "[encoded data removed]",
      "text/plain": [
       "<Figure size 432x288 with 1 Axes>"
      ]
     },
     "metadata": {
      "needs_background": "light"
     },
     "output_type": "display_data"
    }
   ],
   "source": [
    "#C(a)\n",
    "import sympy as sym\n",
    "\n",
    "# using analytical solution\n",
    "u = lambda x : np.sin(4*np.pi*x)\n",
    "# building the correct source file\n",
    "f = lambda x : (4*np.pi)**2*np.sin(4*np.pi*x)\n",
    "# conductivity is constant\n",
    "sigma = lambda x : 1 + 0*x \n",
    "\n",
    "rounds = 4\n",
    "l2_err = np.empty([rounds, 1])\n",
    "h      = np.empty([rounds, 1])\n",
    "\n",
    "for i in range(rounds):\n",
    "\n",
    "    # define a partition \n",
    "    x    = np.linspace(0,1,20*2**i+1)\n",
    "    h[i] = (x[-1] - x[0]) / (len(x) - 1)\n",
    "    # init mesh and fucntion space\n",
    "    mesh = Mesh(x)\n",
    "    v_h  = V_h(mesh)\n",
    "\n",
    "    u_sol = solve_poisson_dirichelet(v_h, f, sigma)\n",
    "\n",
    "    err = lambda x: np.square(u_sol(x) - u(x))\n",
    "    err_diff = lambda x: (err(x+0.001) - err(x-0.001)) / 0.02\n",
    "    # we use an fearly accurate quadrature \n",
    "    l2_err[i] = np.sqrt(integrate.quad(err_diff, 0.0,1.)[0])\n",
    "\n",
    "plt.loglog(h, l2_err)\n",
    "plt.loglog(h, h*2)\n",
    "plt.xlabel('h')\n",
    "plt.title('Error vs. h')\n",
    "plt.legend(['$L^2$ error', '$h$'])"
   ]
  },
  {
   "cell_type": "code",
   "execution_count": 39,
   "metadata": {},
   "outputs": [],
   "source": [
    "#E(e)\n",
    "\n",
    "def solve_E(v_h, f, sigma, u_dirichlet=np.zeros((2)) ):\n",
    "\n",
    "    S = stiffness_matrix(v_h, sigma)[1:-1, 1:-1]\n",
    "    M = mass_matrix(v_h)[1:-1, 1:-1]\n",
    "\n",
    "    # we build the source\n",
    "    b = source_assembler(v_h, f, sigma, u_dirichlet)\n",
    "\n",
    "    # solve for the interior degrees of freedom\n",
    "    u_interior = spsolve(S+M,b)\n",
    "\n",
    "    # concatenate the solution to add the boundary \n",
    "    # conditions\n",
    "    xi_u = np.concatenate([u_dirichlet[:1], \n",
    "                         u_interior, \n",
    "                         u_dirichlet[1:]])\n",
    "\n",
    "    # return the function\n",
    "    return Function(xi_u, v_h)"
   ]
  },
  {
   "cell_type": "code",
   "execution_count": 42,
   "metadata": {},
   "outputs": [
    {
     "name": "stderr",
     "output_type": "stream",
     "text": [
      "<ipython-input-42-8e1e8efc7293>:27: IntegrationWarning: The maximum number of subdivisions (50) has been achieved.\n",
      "  If increasing the limit yields no improvement it is advised to analyze \n",
      "  the integrand in order to determine the difficulties.  If the position of a \n",
      "  local difficulty can be determined (singularity, discontinuity) one will \n",
      "  probably gain from splitting up the interval and calling the integrator \n",
      "  on the subranges.  Perhaps a special-purpose integrator should be used.\n",
      "  l2_err[i] = np.sqrt(integrate.quad(err, 0.0,1.)[0])\n"
     ]
    },
    {
     "data": {
      "text/plain": [
       "<matplotlib.legend.Legend at 0x7fa6f4fc8ac0>"
      ]
     },
     "execution_count": 42,
     "metadata": {},
     "output_type": "execute_result"
    },
    {
     "data": {
      "image/png": "[encoded data removed]",
      "text/plain": [
       "<Figure size 432x288 with 1 Axes>"
      ]
     },
     "metadata": {
      "needs_background": "light"
     },
     "output_type": "display_data"
    }
   ],
   "source": [
    "#E(f)\n",
    "\n",
    "# using analytical solution\n",
    "u = lambda x : np.sin(4*np.pi*x)\n",
    "# building the correct source file\n",
    "f = lambda x : ((4*np.pi)**2+1)*np.sin(4*np.pi*x)\n",
    "# conductivity is constant\n",
    "sigma = lambda x : 1 + 0*x \n",
    "\n",
    "rounds = 4\n",
    "l2_err = np.empty([rounds, 1])\n",
    "h      = np.empty([rounds, 1])\n",
    "\n",
    "for i in range(rounds):\n",
    "\n",
    "    # define a partition \n",
    "    x    = np.linspace(0,1,40*2**i+1)\n",
    "    h[i] = (x[-1] - x[0]) / (len(x) - 1)\n",
    "    # init mesh and fucntion space\n",
    "    mesh = Mesh(x)\n",
    "    v_h  = V_h(mesh)\n",
    "\n",
    "    u_sol = solve_E(v_h, f, sigma)\n",
    "\n",
    "    err = lambda x: np.square(u_sol(x) - u(x))\n",
    "    # we use an fearly accurate quadrature \n",
    "    l2_err[i] = np.sqrt(integrate.quad(err, 0.0,1.)[0])\n",
    "\n",
    "plt.loglog(h, l2_err)\n",
    "plt.loglog(h, h)\n",
    "plt.xlabel('h')\n",
    "plt.title('Error vs. h')\n",
    "plt.legend(['$L^2$ error', 'h'])"
   ]
  }
 ],
 "metadata": {
  "kernelspec": {
   "display_name": "Python 3",
   "language": "python",
   "name": "python3"
  },
  "language_info": {
   "codemirror_mode": {
    "name": "ipython",
    "version": 3
   },
   "file_extension": ".py",
   "mimetype": "text/x-python",
   "name": "python",
   "nbconvert_exporter": "python",
   "pygments_lexer": "ipython3",
   "version": "3.7.6"
  }
 },
 "nbformat": 4,
 "nbformat_minor": 4
}
